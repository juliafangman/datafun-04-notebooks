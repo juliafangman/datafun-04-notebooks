{
 "cells": [
  {
   "cell_type": "markdown",
   "metadata": {},
   "source": [
    "# Module 4 Project\n",
    "Author: [Julia Fangman](https://github.com/juliafangman)\n",
    "Repository: [datafun-04-notebooks](https://github.com/juliafangman/datafun-04-notebooks)\n"
   ]
  },
  {
   "cell_type": "markdown",
   "metadata": {},
   "source": [
    "## Task 1 - Series"
   ]
  },
  {
   "cell_type": "code",
   "execution_count": 6,
   "metadata": {},
   "outputs": [
    {
     "data": {
      "text/plain": [
       "count    11.000000\n",
       "mean     83.909091\n",
       "std       9.730925\n",
       "min      68.000000\n",
       "25%      78.500000\n",
       "50%      84.000000\n",
       "75%      90.500000\n",
       "max      99.000000\n",
       "dtype: float64"
      ]
     },
     "execution_count": 6,
     "metadata": {},
     "output_type": "execute_result"
    }
   ],
   "source": [
    "import pandas as pd\n",
    "\n",
    "\n",
    "#list of integers for exam scores\n",
    "exam_scores = [85, 92, 71, 95, 82, 83, 68, 99, 84, 75, 89]\n",
    "\n",
    "#Panda series created from exam scores\n",
    "grades = pd.Series(exam_scores)\n",
    "\n",
    "first_grade = grades[0]\n",
    "\n",
    "grades.count()\n",
    "grades.mean()\n",
    "grades.min()\n",
    "grades.max()\n",
    "grades.std()\n",
    "grades.describe()\n"
   ]
  },
  {
   "cell_type": "markdown",
   "metadata": {},
   "source": [
    "## Task 2 - Series from Dictionary"
   ]
  },
  {
   "cell_type": "code",
   "execution_count": 7,
   "metadata": {},
   "outputs": [],
   "source": [
    "grades = pd.Series({'Wally':85, 'Eva': 92, 'Sam': 71, 'Jeff': 95, 'Susan': 82, 'George':83, 'Hunter':68, 'Julia': 99, 'Ben': 84, 'Laurie': 75, 'Joe': 89})\n"
   ]
  },
  {
   "cell_type": "code",
   "execution_count": 8,
   "metadata": {},
   "outputs": [
    {
     "name": "stdout",
     "output_type": "stream",
     "text": [
      "92\n",
      "85\n",
      "Array of Values:\n",
      "[85 92 71 95 82 83 68 99 84 75 89]\n"
     ]
    }
   ],
   "source": [
    "print(grades['Eva'])\n",
    "print(grades['Wally'])\n",
    "\n",
    "values_array = grades.values\n",
    "print(\"Array of Values:\")\n",
    "print(values_array)"
   ]
  },
  {
   "cell_type": "code",
   "execution_count": 9,
   "metadata": {},
   "outputs": [
    {
     "data": {
      "text/plain": [
       "count     6.000000\n",
       "mean     75.666667\n",
       "std      10.745542\n",
       "min      60.000000\n",
       "25%      72.250000\n",
       "50%      75.500000\n",
       "75%      78.000000\n",
       "max      93.000000\n",
       "dtype: float64"
      ]
     },
     "execution_count": 9,
     "metadata": {},
     "output_type": "execute_result"
    }
   ],
   "source": [
    "import numpy as np\n",
    "import pandas as pd\n",
    "temps = np.random.randint(60,101,6)\n",
    "temperatures = pd.Series(temps)\n",
    "temperatures\n",
    "\n",
    "temperatures.min()\n",
    "temperatures.max()\n",
    "temperatures.mean()\n",
    "temperatures.describe()"
   ]
  },
  {
   "cell_type": "markdown",
   "metadata": {},
   "source": [
    "\n",
    "```shell\n",
    "jupyter nbconvert --execute juliafangman_1.ipynb\n",
    "```"
   ]
  }
 ],
 "metadata": {
  "kernelspec": {
   "display_name": "Python (.venv)",
   "language": "python",
   "name": ".venv"
  },
  "language_info": {
   "codemirror_mode": {
    "name": "ipython",
    "version": 3
   },
   "file_extension": ".py",
   "mimetype": "text/x-python",
   "name": "python",
   "nbconvert_exporter": "python",
   "pygments_lexer": "ipython3",
   "version": "3.11.4"
  },
  "orig_nbformat": 4
 },
 "nbformat": 4,
 "nbformat_minor": 2
}
